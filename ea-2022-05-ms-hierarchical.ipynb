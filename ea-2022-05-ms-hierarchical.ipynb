{
 "cells": [
  {
   "cell_type": "markdown",
   "metadata": {},
   "source": [
    "<img style=\"float: left;\" src=\"earth-lab-logo-rgb.png\" width=\"150\" height=\"150\" />\n",
    "\n",
    "# Earth Analytics Education - EA  Python Course Spring 2021"
   ]
  },
  {
   "cell_type": "markdown",
   "metadata": {},
   "source": [
    "## Important  - Assignment Guidelines\n",
    "\n",
    "1. Before you submit your assignment to GitHub, make sure to run the entire notebook with a fresh kernel. To do this first, **restart the kernel** (in the menubar, select Kernel$\\rightarrow$Restart & Run All)\n",
    "2. Always replace the `raise NotImplementedError()` code with your code that addresses the activity challenge. If you don't replace that code, your notebook will not run.\n",
    "\n",
    "```\n",
    "# YOUR CODE HERE\n",
    "raise NotImplementedError()\n",
    "```\n",
    "\n",
    "3. Any open ended questions will have a \"YOUR ANSWER HERE\" within a markdown cell. Replace that text with your answer also formatted using Markdown.\n",
    "4. **DO NOT RENAME THIS NOTEBOOK File!** If the file name changes, the autograder will not grade your assignment properly.\n",
    "6. When you create a figure, comment out `plt.show()` to ensure the autograder can grade your plots. For figure cells, DO NOT DELETE the code that says `DO NOT REMOVE LINE BELOW`.\n",
    "\n",
    "```\n",
    "### DO NOT REMOVE LINE BELOW ###\n",
    "student_plot1_ax = nb.convert_axes(plt)\n",
    "```\n",
    "\n",
    "* Only include the package imports, code, and outputs that are required to run your homework assignment.\n",
    "* Be sure that your code can be run on any operating system. This means that:\n",
    "   1. the data should be downloaded in the notebook to ensure it's reproducible\n",
    "   2. all paths should be created dynamically using the `os.path.join`\n",
    "\n",
    "## Follow to PEP 8 Syntax Guidelines & Documentation\n",
    "\n",
    "* Run the `autopep8` tool on all cells prior to submitting (HINT: hit shift + the tool to run it on all cells at once!\n",
    "* Use clear and expressive names for variables. \n",
    "* Organize your code to support readability.\n",
    "* Check for code line length\n",
    "* Use comments and white space sparingly where it is needed\n",
    "* Make sure all python imports are at the top of your notebook and follow PEP 8 order conventions\n",
    "* Spell check your Notebook before submitting it.\n",
    "\n",
    "For all of the plots below, be sure to do the following:\n",
    "\n",
    "* Make sure each plot has a clear TITLE and, where appropriate, label the x and y axes. Be sure to include UNITS in your labels.\n"
   ]
  },
  {
   "cell_type": "markdown",
   "metadata": {},
   "source": [
    "### Add Your Name Below \n",
    "**Your Name:**"
   ]
  },
  {
   "cell_type": "markdown",
   "metadata": {},
   "source": [
    "<img style=\"float: left;\" src=\"colored-bar.png\"/>"
   ]
  },
  {
   "cell_type": "markdown",
   "metadata": {},
   "source": [
    "---"
   ]
  },
  {
   "cell_type": "markdown",
   "metadata": {
    "deletable": false,
    "editable": false,
    "nbgrader": {
     "cell_type": "markdown",
     "checksum": "bf40e1245b91fcedf2247318d23cfebd",
     "grade": false,
     "grade_id": "hw-instructions",
     "locked": true,
     "schema_version": 3,
     "solution": false,
     "task": false
    }
   },
   "source": [
    "# Multispectral Remote Sensing II Homework\n",
    "\n",
    "In this assignment, you will explore and quantify the impacts of fire\n",
    "on the landscape using MODIS and Landsat remote sensing data. You will\n",
    "calculate the Difference Normalize Burn Ratio using MODIS and Landsat\n",
    "remote sensing data. You will also visually compare NAIP, Landsat\n",
    "and MODIS data.\n",
    "\n",
    "## Project  Data\n",
    "\n",
    "To complete this assignment you will need to dowload the following data\n",
    "using earthpy:\n",
    "\n",
    "```python\n",
    "# NAIP  post  fire\n",
    "et.data.get_data('cs-test-naip')\n",
    "# vector layer for cold springs fire\n",
    "et.data.get_data('cold-springs-fire')\n",
    "#  MODIS  pre/post  fire\n",
    "et.data.get_data('cold-springs-modis-h4')\n",
    "# Landsat pre/post fire\n",
    "et.data.get_data(url=\"https://ndownloader.figshare.com/files/21941085\")\n",
    "```\n",
    "\n",
    "## Include the Plots, Text and Outputs As Described Below in this Notebook\n",
    "\n",
    "For all plots:\n",
    "\n",
    "* Add appropriate titles to your plot that clearly and concisely describe what the plot shows.\n",
    "* Be sure to use the correct bands for each plot.\n",
    "* Specify the source of the data used for each plot in a plot caption using `ax.text()`.\n",
    "\n",
    "\n",
    "## Project Introduction (10 points)\n",
    "\n",
    "Read the [overview of the cold springs fire.](https://www.earthdatascience.org/courses/use-data-open-source-python/data-stories/cold-springs-wildfire/). In the Markdown \n",
    "cell below, add a 2-4 sentence description of the Cold Springs Fire. This should \n",
    "include the event:\n",
    "\n",
    "1. name, \n",
    "2. type, \n",
    "3. duration / dates and \n",
    "4. location. "
   ]
  },
  {
   "cell_type": "markdown",
   "metadata": {
    "deletable": false,
    "nbgrader": {
     "cell_type": "markdown",
     "checksum": "066f5ddc804b13f10aeda7201df8c2d4",
     "grade": true,
     "grade_id": "introduction-answer",
     "locked": false,
     "points": 10,
     "schema_version": 3,
     "solution": true,
     "task": false
    }
   },
   "source": [
    "YOUR ANSWER HERE"
   ]
  },
  {
   "cell_type": "markdown",
   "metadata": {
    "deletable": false,
    "editable": false,
    "nbgrader": {
     "cell_type": "markdown",
     "checksum": "41f77bec91ca52d6a0dde97436cb65c9",
     "grade": false,
     "grade_id": "bar1",
     "locked": true,
     "schema_version": 3,
     "solution": false,
     "task": false
    }
   },
   "source": [
    "![Colored Bar](colored-bar.png)"
   ]
  },
  {
   "cell_type": "code",
   "execution_count": null,
   "metadata": {
    "deletable": false,
    "editable": false,
    "nbgrader": {
     "cell_type": "code",
     "checksum": "d2950c9a6c8ec4fff9cfaaf4ff8bb172",
     "grade": false,
     "grade_id": "core-imports",
     "locked": true,
     "schema_version": 3,
     "solution": false,
     "task": false
    }
   },
   "outputs": [],
   "source": [
    "# Autograding imports - do not modify this cell\n",
    "import matplotcheck.notebook as nb\n",
    "import matplotcheck.autograde as ag\n",
    "import matplotcheck.raster as rs\n",
    "import numpy as np"
   ]
  },
  {
   "cell_type": "code",
   "execution_count": null,
   "metadata": {
    "deletable": false,
    "hideCode": false,
    "hidePrompt": false,
    "nbgrader": {
     "cell_type": "code",
     "checksum": "921127d563ce90d793bdc0f8880b6d16",
     "grade": true,
     "grade_id": "student-imports-answer",
     "locked": false,
     "points": 5,
     "schema_version": 3,
     "solution": true,
     "task": false
    },
    "tags": [
     "hide"
    ]
   },
   "outputs": [],
   "source": [
    "# Import libraries (5 points)\n",
    "# Only include imports required to run this notebook\n",
    "\n",
    "# YOUR CODE HERE\n",
    "raise NotImplementedError()"
   ]
  },
  {
   "cell_type": "markdown",
   "metadata": {
    "deletable": false,
    "editable": false,
    "nbgrader": {
     "cell_type": "markdown",
     "checksum": "9bb0580594ad3befaa16b7e12db5ef61",
     "grade": false,
     "grade_id": "versions-instructions",
     "locked": true,
     "schema_version": 3,
     "solution": false,
     "task": false
    }
   },
   "source": [
    "The cell below checks for your version of rioxarray, rasterio and\n",
    "xarray.  You should ideally be running:\n",
    "\n",
    "*  rioxarray >= 0.3.0\n",
    "*  rasterio  >= 1.2.0\n",
    "\n",
    "If you need to update your environment, run the following\n",
    "in bash with your earth analytics python environment active:\n",
    "\n",
    "`conda update -c conda-forge rioxarray`\n",
    "\n",
    "`conda update -c conda-forge rasterio`"
   ]
  },
  {
   "cell_type": "code",
   "execution_count": null,
   "metadata": {
    "deletable": false,
    "editable": false,
    "nbgrader": {
     "cell_type": "code",
     "checksum": "279d14e9ced60a59baa9bce74700d437",
     "grade": false,
     "grade_id": "show-package-versions",
     "locked": true,
     "schema_version": 3,
     "solution": false,
     "task": false
    }
   },
   "outputs": [],
   "source": [
    "# View package versions\n",
    "rxr.show_versions()"
   ]
  },
  {
   "cell_type": "code",
   "execution_count": null,
   "metadata": {
    "deletable": false,
    "editable": false,
    "hideCode": false,
    "hidePrompt": false,
    "nbgrader": {
     "cell_type": "code",
     "checksum": "dcf5b59326bf066172ff61520b658a3d",
     "grade": true,
     "grade_id": "student-download-tests",
     "locked": true,
     "points": 0,
     "schema_version": 3,
     "solution": false,
     "task": false
    }
   },
   "outputs": [],
   "source": [
    "# DO NOT MODIFY THIS CELL\n",
    "# Tests that the working directory is set to earth-analytics/data\n",
    "\n",
    "path = os.path.normpath(os.getcwd())\n",
    "student_wd_parts = path.split(os.sep)\n",
    "\n",
    "if student_wd_parts[-2:] == ['earth-analytics', 'data']:\n",
    "    print(\"\\u2705 Great - it looks like your working directory is set correctly to ~/earth-analytics/data\")\n",
    "else:\n",
    "    print(\"\\u274C Oops, the autograder will not run unless your working directory is set to earth-analytics/data\")"
   ]
  },
  {
   "cell_type": "markdown",
   "metadata": {
    "deletable": false,
    "editable": false,
    "nbgrader": {
     "cell_type": "markdown",
     "checksum": "c8efbb2cc18fb8d35f5279a785d40206",
     "grade": false,
     "grade_id": "part-1-instructions",
     "locked": true,
     "points": 5,
     "schema_version": 3,
     "solution": false,
     "task": true
    }
   },
   "source": [
    "## Function To Open & Clean Landsat &  MODIS Data\n",
    "\n",
    "###  TASK:  Clean  Up  Docstrings For a Function\n",
    "\n",
    "Below you are given a function to process and clean Landsat and MODIS data. \n",
    "Add a numpy style docstring to the function with required **Parameters**\n",
    "and **Returns** elements.\n",
    "\n",
    "NOTE: You are welcome to modify the function code or simply use \n",
    "it as is. \n",
    "\n",
    "For all functions in this notebook, add a docstring that uses numpy style format (for examples, review the [Intro to Earth Data Sciene textbook chapter on Functions](https://www.earthdatascience.org/courses/intro-to-earth-data-science/write-efficient-python-code/functions-modular-code/write-functions-in-python/#docstring).\n",
    "\n",
    "The docstring should include:\n",
    "\n",
    "    * A one sentence description of what the function does.\n",
    "    * Description of each input variable (parameter), following numpy docstring standards.\n",
    "    * Description of each output object (return), following numpy docstring standards."
   ]
  },
  {
   "cell_type": "code",
   "execution_count": null,
   "metadata": {
    "deletable": false,
    "nbgrader": {
     "cell_type": "code",
     "checksum": "95829c165178f5c34f6c1ad73064a120",
     "grade": false,
     "grade_id": "given-functions",
     "locked": false,
     "schema_version": 3,
     "solution": true,
     "task": false
    }
   },
   "outputs": [],
   "source": [
    "def open_clean_bands(band_path,\n",
    "                     crop_bound,\n",
    "                     valid_range=None,\n",
    "                     variable=None):\n",
    "    # YOUR CODE HERE\n",
    "    raise NotImplementedError()\n",
    "    \"\"\"Open and clean a single landsat band .\n",
    "\n",
    "    Parameters\n",
    "    -----------\n",
    "    band_path:string A path to the array to be opened\n",
    "    crop_bound:geopandas GeoDataFrame\n",
    "    A geopandas dataframe to be used to crop the raster data using rioxarray clip().\n",
    "    valid_range:tuple (optional)\n",
    "     A tuple of min and max range of values for the data. Default = None\n",
    "\n",
    "    Returns\n",
    "    -----------\n",
    "\n",
    "    \"\"\"\n",
    "\n",
    "    crop_bound_box = [box(*crop_bound.bounds.loc[0])]\n",
    "\n",
    "    try:\n",
    "        band = rxr.open_rasterio(band_path,\n",
    "                                 masked=True,\n",
    "                                 variable=variable).rio.clip(crop_bound_box,\n",
    "                                                             crs=crop_bound.crs,\n",
    "                                                             all_touched=True,\n",
    "                                                             from_disk=True).squeeze()\n",
    "    except:\n",
    "        raise ValueError(\n",
    "            \"Oops - I couldn't clip your data. This may be due to a crs error.\")\n",
    "\n",
    "    # Only mask the data to the valid range if a valid range tuple is provided\n",
    "    if valid_range is not None:\n",
    "        mask = ((band < valid_range[0]) | (band > valid_range[1]))\n",
    "        band = band.where(~xr.where(mask, True, False))\n",
    "\n",
    "    return band"
   ]
  },
  {
   "cell_type": "markdown",
   "metadata": {
    "deletable": false,
    "editable": false,
    "nbgrader": {
     "cell_type": "markdown",
     "checksum": "75fd1b8b0d483f7a37ffdd5374b685d0",
     "grade": false,
     "grade_id": "bar2",
     "locked": true,
     "schema_version": 3,
     "solution": false,
     "task": false
    }
   },
   "source": [
    "![Colored Bar](colored-bar.png)"
   ]
  },
  {
   "cell_type": "markdown",
   "metadata": {
    "deletable": false,
    "editable": false,
    "nbgrader": {
     "cell_type": "markdown",
     "checksum": "d44adf9dddcbcb81722bbff836e70fac",
     "grade": false,
     "grade_id": "figure-1-instructions",
     "locked": true,
     "schema_version": 3,
     "solution": false,
     "task": false
    }
   },
   "source": [
    "# Figure 1 -  3  Subplots Containing  Color InfraRed (CIR) Imagery -  for  NAIP, Landsat and MODIS\n",
    "\n",
    "**NOTE:  You will be able to complete the MODIS subplot after next week's class!**\n",
    "\n",
    "Create a single figure that contains a **vertical grid** of 3 subplots that \n",
    "show color infrared (also called false color) composite images using:\n",
    "\n",
    "* Post Fire NAIP data (this is the data that you downloaded for your week 6 homework)\n",
    "* Post Fire Landsat data (use: `et.data.get_data(url=\"https://ndownloader.figshare.com/files/21941085\")`\n",
    "* Post Fire MODIS data (use: `et.data.get_data('cold-springs-modis-h5')`\n",
    "\n",
    "For each subplot, be sure to:\n",
    "\n",
    "* Crop the data to the square fire boundary extent.\n",
    "* Overlay the fire boundary layer (`vector_layers/fire-boundary-geomac/co_cold_springs_20160711_2200_dd83.shp`) on top of the image.\n",
    "* Use the band combination **r = infrared band**, **g = red band**, **b = green** band.\n",
    "* Label each plot with the data type (NAIP vs. Landsat vs. MODIS) and spatial resolution.\n",
    "\n",
    "HINT: In a CIR image, the NIR band is plotted on the “red” band, the red band is plotted on the \"green\" band and the green band is plotted on the \"blue\" band.\n",
    "\n",
    "[Click here to see what the final plot should look like.](https://www.earthdatascience.org/courses/earth-analytics-python/multispectral-remote-sensing-modis/)"
   ]
  },
  {
   "cell_type": "code",
   "execution_count": null,
   "metadata": {
    "deletable": false,
    "nbgrader": {
     "cell_type": "code",
     "checksum": "b68dd1af91f0fc85c132ef5d2d123fbb",
     "grade": false,
     "grade_id": "open-fire-boundary",
     "locked": false,
     "schema_version": 3,
     "solution": true,
     "task": false
    }
   },
   "outputs": [],
   "source": [
    "# Open fire boundary shapefile in this cell\n",
    "\n",
    "# YOUR CODE HERE\n",
    "raise NotImplementedError()"
   ]
  },
  {
   "cell_type": "markdown",
   "metadata": {
    "deletable": false,
    "editable": false,
    "nbgrader": {
     "cell_type": "markdown",
     "checksum": "0db6376d9bd308994a44c3a19dab9a11",
     "grade": false,
     "grade_id": "open-landsat-instructions",
     "locked": true,
     "schema_version": 3,
     "solution": false,
     "task": false
    }
   },
   "source": [
    "## Open Landsat Data\n",
    "\n",
    "In the cells below, open and process your Landsat data using loops and string \n",
    "manipulation of paths. Your data processing output should be a cropped and \n",
    "masked **xarray DataArray** object for both the pre and post fire images. \n",
    "You will use this object later in the assignment. At the end of the cell below,  \n",
    "call your post fire Landsat xarray object that's been cropped and cleaned.\n",
    "\n",
    "*  Important: Set the valid range for your landsat data to be **0-10,000** which maps to an unscaled valid range of 0-1 (no reflectance to 100% reflectance).\n",
    "*  Only open the set ofbands that you need to process nbr and your CIR image.\n",
    "* Use the `open_clean_bands()` function above to create the \n",
    "cropped and cleaned  **xarray DataArrays** for each Landsat scene.\n",
    "* Hint: This function can also be used to open your NAIP and MODIS data below.\n"
   ]
  },
  {
   "cell_type": "code",
   "execution_count": null,
   "metadata": {
    "deletable": false,
    "nbgrader": {
     "cell_type": "code",
     "checksum": "f4f126ed668dfb85045faa6bf02737c0",
     "grade": false,
     "grade_id": "open-landsat-answers",
     "locked": false,
     "schema_version": 3,
     "solution": true,
     "task": false
    }
   },
   "outputs": [],
   "source": [
    "# Create loop to process both Landsat scenes in this cell\n",
    "# Use the function open_clean_bands to process your data\n",
    "\n",
    "# YOUR CODE HERE\n",
    "raise NotImplementedError()"
   ]
  },
  {
   "cell_type": "code",
   "execution_count": null,
   "metadata": {
    "deletable": false,
    "editable": false,
    "nbgrader": {
     "cell_type": "code",
     "checksum": "1a9f09495cc08d70cba7bd4542d03b79",
     "grade": true,
     "grade_id": "open-landsat-tests",
     "locked": true,
     "points": 3,
     "schema_version": 3,
     "solution": false,
     "task": false
    }
   },
   "outputs": [],
   "source": [
    "# This cell is testing your data output above\n",
    "\n",
    "student_landsat_arr = _\n",
    "\n",
    "landsat_points = 0\n",
    "\n",
    "# Ensure the data is stored in a dataframe.\n",
    "if isinstance(student_landsat_arr, xr.DataArray):\n",
    "    print('\\u2705 Your data is stored in a DataArray!')\n",
    "    landsat_points += 3\n",
    "else:\n",
    "    print('\\u274C It appears your data is not stored in a DataArray. ',\n",
    "          'To see what type of object your data is stored in, check its type with type(object)')\n",
    "\n",
    "print(\"\\n \\u27A1 You received {} out of 3 points for creating your array.\".format(\n",
    "    landsat_points))\n",
    "landsat_points"
   ]
  },
  {
   "cell_type": "code",
   "execution_count": null,
   "metadata": {
    "deletable": false,
    "editable": false,
    "nbgrader": {
     "cell_type": "code",
     "checksum": "e8d6d82f9e4b4f06dfdec1d7a71b466a",
     "grade": true,
     "grade_id": "hidden-boundary-tests",
     "locked": true,
     "points": 3,
     "schema_version": 3,
     "solution": false,
     "task": false
    }
   },
   "outputs": [],
   "source": [
    "# DO NOT MODIFY THIS CELL\n"
   ]
  },
  {
   "cell_type": "markdown",
   "metadata": {
    "deletable": false,
    "editable": false,
    "nbgrader": {
     "cell_type": "markdown",
     "checksum": "77465bb0c748a21b229ea9cb4af47912",
     "grade": false,
     "grade_id": "open-modis-instructions",
     "locked": true,
     "schema_version": 3,
     "solution": false,
     "task": false
    }
   },
   "source": [
    "## Open MODIS hdf4 Data\n",
    "\n",
    "In the cells below, open and process your MODIS hdf4 data using loops and \n",
    "string manipulation of paths. Your workflow should produce a cropped and \n",
    "masked **xarray DataArray** for both the pre and post fire \n",
    "scenes which you will use later in the assignment. You should also create a \n",
    "plotting extent object for the MODIS imagery. \n",
    "\n",
    "At the end of your cell, call your post fire MODIS array that's been cropped and cleaned!  \n",
    "\n",
    "Use the function `open_clean_bands()` included in this notebook to open and \n",
    "crop the MODIS data.\n",
    "\n",
    "* MODIS data is hierarchical, and not stored in multiple files like Landsat. In order to only get the desired bands for the homework, you can use the `variable=` argument in the provided function. If you pass a list of just the desired band names, the function will return an xarray Dataset with just those bands. \n"
   ]
  },
  {
   "cell_type": "code",
   "execution_count": null,
   "metadata": {
    "deletable": false,
    "nbgrader": {
     "cell_type": "code",
     "checksum": "28ab0bcb0e3d8ca6944efbf4e034a0f8",
     "grade": false,
     "grade_id": "open-modis-answers",
     "locked": false,
     "schema_version": 3,
     "solution": true,
     "task": false
    }
   },
   "outputs": [],
   "source": [
    "# Process MODIS Data\n",
    "\n",
    "# YOUR CODE HERE\n",
    "raise NotImplementedError()"
   ]
  },
  {
   "cell_type": "code",
   "execution_count": null,
   "metadata": {
    "deletable": false,
    "editable": false,
    "nbgrader": {
     "cell_type": "code",
     "checksum": "3e3c178e0359e8f4988dc28ffc44718a",
     "grade": true,
     "grade_id": "open-modis-tests",
     "locked": true,
     "points": 3,
     "schema_version": 3,
     "solution": false,
     "task": false
    }
   },
   "outputs": [],
   "source": [
    "# This cell is testing your data output above\n",
    "\n",
    "student_modis_arr = _\n",
    "\n",
    "modis_points = 0\n",
    "\n",
    "# Ensure the data is stored in a dataframe.\n",
    "if isinstance(student_modis_arr, xr.DataArray):\n",
    "    print('\\u2705 Your data is stored in a DataArray!')\n",
    "    modis_points += 3\n",
    "elif isinstance(student_modis_arr, xr.Dataset):\n",
    "    print('\\u2705 Your data is stored in a DataArray!')\n",
    "    modis_points += 3\n",
    "else:\n",
    "    print('\\u274C It appears your data is not stored in a DataArray. ',\n",
    "          'To see what type of object your data is stored in, check its type with type(object)')\n",
    "\n",
    "print(\"\\n \\u27A1 You received {} out of 3 points for creating your array.\".format(\n",
    "    modis_points))\n",
    "modis_points"
   ]
  },
  {
   "cell_type": "code",
   "execution_count": null,
   "metadata": {
    "deletable": false,
    "editable": false,
    "nbgrader": {
     "cell_type": "code",
     "checksum": "ba25b7a7b98db0b296334a4b1e1edd39",
     "grade": true,
     "grade_id": "modis-tests-hidden",
     "locked": true,
     "points": 3,
     "schema_version": 3,
     "solution": false,
     "task": false
    }
   },
   "outputs": [],
   "source": [
    "# DO NOT MODIFY THIS CELL"
   ]
  },
  {
   "cell_type": "markdown",
   "metadata": {
    "deletable": false,
    "editable": false,
    "nbgrader": {
     "cell_type": "markdown",
     "checksum": "41ccb8da36ab436594ce1eafc92c46c9",
     "grade": false,
     "grade_id": "open-naip-instructions",
     "locked": true,
     "schema_version": 3,
     "solution": false,
     "task": false
    }
   },
   "source": [
    "## Process NAIP Post Fire Data\n",
    "\n",
    "In the cell below, use  the `open_clean_bands` function to open and \n",
    "crop the post-fire cold springs fire NAIP data."
   ]
  },
  {
   "cell_type": "code",
   "execution_count": null,
   "metadata": {
    "deletable": false,
    "nbgrader": {
     "cell_type": "code",
     "checksum": "ac72985ac1e81ae8ddfcf348c5dfa7ed",
     "grade": false,
     "grade_id": "open-naip-answers",
     "locked": false,
     "schema_version": 3,
     "solution": true,
     "task": false
    }
   },
   "outputs": [],
   "source": [
    "# Process NAIP data\n",
    "\n",
    "# YOUR CODE HERE\n",
    "raise NotImplementedError()"
   ]
  },
  {
   "cell_type": "code",
   "execution_count": null,
   "metadata": {
    "deletable": false,
    "editable": false,
    "nbgrader": {
     "cell_type": "code",
     "checksum": "af4978df597a343f7c0b9044a2ddab59",
     "grade": true,
     "grade_id": "open-naip-tests",
     "locked": true,
     "points": 3,
     "schema_version": 3,
     "solution": false,
     "task": false
    }
   },
   "outputs": [],
   "source": [
    "# This cell is testing your data output above\n",
    "\n",
    "student_naip_arr = _\n",
    "\n",
    "naip_points = 0\n",
    "\n",
    "# Ensure the data is stored in a dataframe.\n",
    "if isinstance(student_naip_arr, xr.DataArray):\n",
    "    print('\\u2705 Your data is stored in a DataArray!')\n",
    "    naip_points += 3\n",
    "else:\n",
    "    print('\\u274C It appears your data is not stored in a DataArray. ',\n",
    "          'To see what type of object your data is stored in, check its type with type(object)')\n",
    "\n",
    "print(\"\\n \\u27A1 You received {} out of 3 points for creating your array.\".format(\n",
    "    naip_points))\n",
    "naip_points"
   ]
  },
  {
   "cell_type": "code",
   "execution_count": null,
   "metadata": {
    "deletable": false,
    "editable": false,
    "nbgrader": {
     "cell_type": "code",
     "checksum": "ee14467062dceddbb8b7218a45505f66",
     "grade": true,
     "grade_id": "naip-tests-hidden",
     "locked": true,
     "points": 3,
     "schema_version": 3,
     "solution": false,
     "task": false
    }
   },
   "outputs": [],
   "source": [
    "# DO NOT MODIFY THIS CELL"
   ]
  },
  {
   "cell_type": "markdown",
   "metadata": {
    "deletable": false,
    "editable": false,
    "hideCode": false,
    "hidePrompt": false,
    "nbgrader": {
     "cell_type": "markdown",
     "checksum": "36727e9acc3a66de4e90d7eac4733653",
     "grade": false,
     "grade_id": "plot-intructions",
     "locked": true,
     "schema_version": 3,
     "solution": false,
     "task": false
    }
   },
   "source": [
    "## Figure 1: Plot CIR for NAIP, Landsat and MODIS Using Post Fire Data (15 points each subplot)\n",
    "\n",
    "In the cell below, create a figure with 3 subplots stacked vertically.\n",
    "\n",
    "In each subplot, plot a CIR composite image using the post-fire data for:\n",
    "\n",
    "* NAIP  (first figure axis) \n",
    "* Landsat (second figure axis) \n",
    "* MODIS (third figure axis)\n",
    "\n",
    "Respectively on this figure. In order to plot this figure using `earthpy.plot_rgb()` \n",
    "you will need to turn your data into a masked numpy array using the `clean_array_plot` \n",
    "function.\n",
    "\n",
    "### Plotting Xarray Data  Using EarthPy\n",
    "(Extra information in case you are wondering about this extra step!)\n",
    "\n",
    "The `clean_array_plot` function is needed to plot xarray DataArrays with `ep.plot_rgb()`. This has to do with how `ep.plot_rgb()` handles `null` values in xarray DataArrays. `ep.plot_rgb()` was built around plotting masked numpy arrays. Masked numpy arrays are composed of two arrays, one with the stored values, and one that is applied as a mask over the stored values. xarray DataArrays integrate the mask into the DataArray by replacing all of the values with `nan` values. For  plotting,  these\n",
    "`nan` values need to  \n",
    "be masked. \n",
    "\n",
    "The `clean_array_plot()` function below, masks `nan` values for you\n",
    "so the data plot properly using `plot_rgb()`."
   ]
  },
  {
   "cell_type": "markdown",
   "metadata": {
    "deletable": false,
    "editable": false,
    "nbgrader": {
     "cell_type": "markdown",
     "checksum": "d77050cab9893f6fcace3f82eac7b3db",
     "grade": false,
     "grade_id": "numpy-docstring-2",
     "locked": true,
     "points": 5,
     "schema_version": 3,
     "solution": false,
     "task": true
    }
   },
   "source": [
    "### Task (5 points): Add Numpy  Style  Docstring  to Function  Below\n",
    "    \n",
    "Add a numpy-style docstring to the function below."
   ]
  },
  {
   "cell_type": "code",
   "execution_count": null,
   "metadata": {
    "deletable": false,
    "nbgrader": {
     "cell_type": "code",
     "checksum": "990b7066fc3c587310010467cddd5c8c",
     "grade": false,
     "grade_id": "clean-array-function",
     "locked": false,
     "schema_version": 3,
     "solution": true,
     "task": false
    }
   },
   "outputs": [],
   "source": [
    "def clean_array_plot(xr_obj):\n",
    "    # This function takes a single xarray object as an input and produces a\n",
    "    # cleaned numpy array output for plotting\n",
    "    # YOUR CODE HERE\n",
    "    raise NotImplementedError()\n",
    "\n",
    "    return ma.masked_array(xr_obj.values,  xr_obj.isnull())"
   ]
  },
  {
   "cell_type": "code",
   "execution_count": null,
   "metadata": {
    "deletable": false,
    "hideCode": false,
    "hidePrompt": false,
    "nbgrader": {
     "cell_type": "code",
     "checksum": "b67bc019dd2bc61a6dd5c626c4bdfdec",
     "grade": false,
     "grade_id": "plot-answers",
     "locked": false,
     "schema_version": 3,
     "solution": true,
     "task": false
    }
   },
   "outputs": [],
   "source": [
    "# Plot CIR of Post Fire NAIP, Landsat & MODIS together in one figure\n",
    "\n",
    "# YOUR CODE HERE\n",
    "raise NotImplementedError()\n",
    "\n",
    "### DO NOT REMOVE LINE BELOW ###\n",
    "plot01_CIR_res_comparison = nb.convert_axes(plt, which_axes=\"all\")"
   ]
  },
  {
   "cell_type": "code",
   "execution_count": null,
   "metadata": {
    "deletable": false,
    "editable": false,
    "nbgrader": {
     "cell_type": "code",
     "checksum": "2110bb9416cd8f270acc264d93fda0a3",
     "grade": true,
     "grade_id": "plot-hidden-tests-1",
     "locked": true,
     "points": 0,
     "schema_version": 3,
     "solution": false,
     "task": false
    }
   },
   "outputs": [],
   "source": [
    "# DO NOT MODIFY THIS CELL"
   ]
  },
  {
   "cell_type": "code",
   "execution_count": null,
   "metadata": {
    "deletable": false,
    "editable": false,
    "nbgrader": {
     "cell_type": "code",
     "checksum": "7f5226aa43db8e8b8f4449f246f5aaef",
     "grade": true,
     "grade_id": "plot-hidden-tests-2",
     "locked": true,
     "points": 15,
     "schema_version": 3,
     "solution": false,
     "task": false
    }
   },
   "outputs": [],
   "source": [
    "# DO NOT TOUCH THIS CELL - autograding tests for NAIP subplot\n"
   ]
  },
  {
   "cell_type": "code",
   "execution_count": null,
   "metadata": {
    "deletable": false,
    "editable": false,
    "nbgrader": {
     "cell_type": "code",
     "checksum": "ace51952e24abb808cee9a2c4671afab",
     "grade": true,
     "grade_id": "plot-hidden-tests-3",
     "locked": true,
     "points": 15,
     "schema_version": 3,
     "solution": false,
     "task": false
    }
   },
   "outputs": [],
   "source": [
    "# DO NOT TOUCH THIS CELL - autograding tests for Landsat subplot\n"
   ]
  },
  {
   "cell_type": "code",
   "execution_count": null,
   "metadata": {
    "deletable": false,
    "editable": false,
    "nbgrader": {
     "cell_type": "code",
     "checksum": "e954d3c57e1bcac5526fb1fc8628afee",
     "grade": true,
     "grade_id": "plot-hidden-tests-4",
     "locked": true,
     "points": 15,
     "schema_version": 3,
     "solution": false,
     "task": false
    }
   },
   "outputs": [],
   "source": [
    "# DO NOT TOUCH THIS CELL - autograding tests for MODIS subplot\n"
   ]
  },
  {
   "cell_type": "markdown",
   "metadata": {
    "deletable": false,
    "editable": false,
    "nbgrader": {
     "cell_type": "markdown",
     "checksum": "396ace7201bd2273c56859f222179f7d",
     "grade": false,
     "grade_id": "bar3",
     "locked": true,
     "schema_version": 3,
     "solution": false,
     "task": false
    }
   },
   "source": [
    "![Colored Bar](colored-bar.png)"
   ]
  },
  {
   "cell_type": "markdown",
   "metadata": {
    "deletable": false,
    "editable": false,
    "nbgrader": {
     "cell_type": "markdown",
     "checksum": "ab7c03f7e477031c71c872930a9bccd6",
     "grade": false,
     "grade_id": "dnbr-insturctions",
     "locked": true,
     "schema_version": 3,
     "solution": false,
     "task": false
    }
   },
   "source": [
    "# Figure 2 Overview: Difference NBR (dNBR) Using Landsat  & MODIS Data (25 points each subplot)\n",
    "\n",
    "Create a figure that has two subplots stacked vertically using the same MODIS and Landsat data that you processed above. \n",
    "\n",
    "* Subplot one: classified dNBR using Landsat data\n",
    "* Subplot two: classified dNBR using MODIS data \n",
    "\n",
    "For each subplot, overlay the fire extent boundary `vector_layers/fire-boundary-geomac/co_cold_springs_20160711_2200_dd83.shp`\n",
    "on top of the dNBR map\n",
    "\n",
    "First, create a dNBR raster for Landsat and Modis, using the datasets you opened earlier. Then classify each dNBR raster.\n",
    "\n",
    "To classify each dNBR raster, create a function `classify_dnbr()` that does this for you.\n",
    "\n",
    "When you plot your MODIS data, you may notice that the data does not contain all of the classes that Landsat contains which can range from 1-5. To ensure that your colormap plots properly, set the `vmin=` and `vmax=` parameters to 1 and 5 respectively when you call `ep.plot_bands()`:\n",
    "\n",
    "`vmin=1, vmax=5`\n",
    "\n",
    "\n",
    "## Figure Legend\n",
    "\n",
    "You only need one legend for this figure. The `ep.draw_legend()` function will create a legend of \"boxes\" if you provide it with an:\n",
    "\n",
    "1. `imshow()` image object\n",
    "2. classes : a list of numbers that represent the classes in your numpy array\n",
    "3. titles: a list of dNBR class names example: `[\"High Severity\", \"Low Severity\"]`\n",
    "\n",
    "### dNBR Classes\n",
    "\n",
    "Note: if you scaled your data, you may need to scale the values below by a factor of 10.\n",
    "\n",
    "| SEVERITY LEVEL  | dNBR RANGE |\n",
    "|----------------|--------------|\n",
    "| Enhanced Regrowth | < -.1 |\n",
    "| Unburned        | -.1 to +.1 |\n",
    "| Low Severity     | +.1 to +.27 |\n",
    "| Moderate Severity  | +.27 to +.66 |\n",
    "| High Severity    | > .66 |\n",
    "\n",
    "\n",
    "HINT: Your dNBR classification list should look like this:\n",
    "`[-np.inf, -.1, .1, .27, .66, np.inf]`\n",
    "\n",
    "HINT 2: If you want to use them, these are the colors used in the maps on the website:\n",
    "\n",
    "`[\"g\", \"yellowgreen\", \"peachpuff\", \"coral\", \"maroon\"]`\n",
    "\n",
    "The code to create a custom colormap for the plot is below:\n",
    "\n",
    "```\n",
    "nbr_colors = [\"g\", \"yellowgreen\", \"peachpuff\", \"coral\", \"maroon\"]\n",
    "nbr_cmap = ListedColormap(nbr_colors)\n",
    "```"
   ]
  },
  {
   "cell_type": "markdown",
   "metadata": {
    "deletable": false,
    "editable": false,
    "nbgrader": {
     "cell_type": "markdown",
     "checksum": "b02461213826c82591e341a269558cd9",
     "grade": false,
     "grade_id": "dnbr-function-instructions",
     "locked": true,
     "schema_version": 3,
     "solution": false,
     "task": false
    }
   },
   "source": [
    "## Function classify_dnbr (5 points)\n",
    "\n",
    "In the cell below, write a function called `classify_dnbr` that: \n",
    "1. Classifies a numpy array using classes/bins defined in the function. \n",
    "    * **1 input:**\n",
    "        * 1) numpy array containing dNBR data in numpy array format \n",
    "2. Returns a classified numpy array. \n",
    "    * **1 output:**\n",
    "        * 1) numpy array with classified values (integers)\n",
    "        \n",
    "HINT: If you are getting errors due to there being too many classes when trying to plot, it's likely because you have `null` values in your array being classified above or below your infinity values! This is confusing, but can happen when digitizing and array with `null` values in it. Set up your function so that the output is masked in the same places the input is masked to avoid this issue. There shouldn't be any values greater then 5 in your digitized array, much like there shouldn't be any values greater then 10000 in a Landsat array!"
   ]
  },
  {
   "cell_type": "code",
   "execution_count": null,
   "metadata": {
    "deletable": false,
    "nbgrader": {
     "cell_type": "code",
     "checksum": "b53be9e14dad96c5081ba2ec97d251cf",
     "grade": false,
     "grade_id": "classify-dnbr-function",
     "locked": false,
     "schema_version": 3,
     "solution": true,
     "task": false
    }
   },
   "outputs": [],
   "source": [
    "# Add your function here. Do NOT modify the function name\n",
    "def classify_dnbr(arr):\n",
    "\n",
    "    # YOUR CODE HERE\n",
    "    raise NotImplementedError()"
   ]
  },
  {
   "cell_type": "code",
   "execution_count": null,
   "metadata": {
    "deletable": false,
    "hideCode": false,
    "hidePrompt": false,
    "nbgrader": {
     "cell_type": "code",
     "checksum": "1ddf7323268d58e770983633ce4becee",
     "grade": false,
     "grade_id": "landsat-dnbr-answer",
     "locked": false,
     "schema_version": 3,
     "solution": true,
     "task": false
    },
    "slideshow": {
     "slide_type": "slide"
    },
    "tags": [
     "hide"
    ]
   },
   "outputs": [],
   "source": [
    "# Calculate and classify dNBR for Landsat - be sure to use the correct bands!\n",
    "# Call your classified array at the end of the cell\n",
    "\n",
    "# YOUR CODE HERE\n",
    "raise NotImplementedError()"
   ]
  },
  {
   "cell_type": "code",
   "execution_count": null,
   "metadata": {
    "deletable": false,
    "editable": false,
    "nbgrader": {
     "cell_type": "code",
     "checksum": "5e544c90f6f24b7e60ae8de0b5d08cae",
     "grade": true,
     "grade_id": "landsat-dnbr-tests",
     "locked": true,
     "points": 6,
     "schema_version": 3,
     "solution": false,
     "task": false
    }
   },
   "outputs": [],
   "source": [
    "# This cell  is testing your data output above\n",
    "\n",
    "student_landsat_dnbr_class = _\n",
    "\n",
    "landsat_dnbr_points = 0\n",
    "\n",
    "values, counts = np.unique(student_landsat_dnbr_class, return_counts=True)\n",
    "\n",
    "correct_values = [1, 2, 3, 4, 5]\n",
    "\n",
    "correct_counts = [34, 2781, 456, 940, 775]\n",
    "\n",
    "if all(value in values.tolist() for value in correct_values):\n",
    "    print(\"\\u2705 All expected classes were found in the raster!\")\n",
    "    landsat_dnbr_points += 3\n",
    "else:\n",
    "    print(\"\\u274C Not all expected classes were found in the raster, or too many classes were found.\")\n",
    "\n",
    "if all(count in counts.tolist() for count in correct_counts):\n",
    "    print(\"\\u2705 The correct amount of each class exists in the raster!\")\n",
    "    landsat_dnbr_points += 3\n",
    "else:\n",
    "    print(\"\\u274C Each class does not have the correct amount of values in the raster. Make sure you are masking NA values!\")\n",
    "\n",
    "print(\"\\n \\u27A1 You received {} out of 6 points for creating your array.\".format(\n",
    "    landsat_dnbr_points))\n",
    "landsat_dnbr_points"
   ]
  },
  {
   "cell_type": "code",
   "execution_count": null,
   "metadata": {
    "deletable": false,
    "nbgrader": {
     "cell_type": "code",
     "checksum": "42fdab58442e312d7e8a9bf265f64197",
     "grade": false,
     "grade_id": "modis-dnbr-answer",
     "locked": false,
     "schema_version": 3,
     "solution": true,
     "task": false
    }
   },
   "outputs": [],
   "source": [
    "# Calculate dNBR for MODIS - be sure to use the correct bands!\n",
    "# Call your classified array at the end of the cell\n",
    "\n",
    "# YOUR CODE HERE\n",
    "raise NotImplementedError()"
   ]
  },
  {
   "cell_type": "code",
   "execution_count": null,
   "metadata": {
    "deletable": false,
    "editable": false,
    "nbgrader": {
     "cell_type": "code",
     "checksum": "941a26876758d73a49e599d9ac7dbd79",
     "grade": true,
     "grade_id": "modis-dnbr-tests",
     "locked": true,
     "points": 6,
     "schema_version": 3,
     "solution": false,
     "task": false
    }
   },
   "outputs": [],
   "source": [
    "# This cell  is testing your data output above\n",
    "\n",
    "student_modis_dnbr_class = _\n",
    "\n",
    "modis_dnbr_points = 0\n",
    "\n",
    "values, counts = np.unique(student_modis_dnbr_class, return_counts=True)\n",
    "\n",
    "correct_values = [2, 3, 4]\n",
    "correct_counts = [2, 12, 15]\n",
    "\n",
    "if all(value in values.tolist() for value in correct_values):\n",
    "    print(\"\\u2705 All expected classes were found in the raster!\")\n",
    "    modis_dnbr_points += 3\n",
    "else:\n",
    "    print(\"\\u274C Not all expected classes were found in the raster, or too many classes were found.\")\n",
    "\n",
    "if all(count in counts.tolist() for count in correct_counts):\n",
    "    print(\"\\u2705 The correct amount of each class exists in the raster!\")\n",
    "    modis_dnbr_points += 3\n",
    "else:\n",
    "    print(\"\\u274C Each class does not have the correct amount of values in the raster. Make sure you are masking NA values!\")\n",
    "\n",
    "print(\"\\n \\u27A1 You received {} out of 6 points for creating your array.\".format(\n",
    "    modis_dnbr_points))\n",
    "modis_dnbr_points"
   ]
  },
  {
   "cell_type": "code",
   "execution_count": null,
   "metadata": {
    "deletable": false,
    "nbgrader": {
     "cell_type": "code",
     "checksum": "1e5f97555989cc32cc73c9bb0aa5671f",
     "grade": false,
     "grade_id": "dnbr-plots-answer",
     "locked": false,
     "schema_version": 3,
     "solution": true,
     "task": false
    },
    "tags": [
     "hide"
    ]
   },
   "outputs": [],
   "source": [
    "# Plot Difference NBR (dNBR) for Landsat & MODIS together in one figure\n",
    "\n",
    "# YOUR CODE HERE\n",
    "raise NotImplementedError()\n",
    "\n",
    "### DO NOT REMOVE LINE BELOW ###\n",
    "plot03_landsat_dnbr = nb.convert_axes(plt, which_axes=\"all\")"
   ]
  },
  {
   "cell_type": "code",
   "execution_count": null,
   "metadata": {
    "deletable": false,
    "editable": false,
    "nbgrader": {
     "cell_type": "code",
     "checksum": "307c16aaf5d252f84933fe1eae82918e",
     "grade": true,
     "grade_id": "dnbr-hidden-tests-1",
     "locked": true,
     "points": 25,
     "schema_version": 3,
     "solution": false,
     "task": false
    }
   },
   "outputs": [],
   "source": [
    "# Ignore this cell - autograding tests for Landsat subplot\n"
   ]
  },
  {
   "cell_type": "code",
   "execution_count": null,
   "metadata": {
    "deletable": false,
    "editable": false,
    "nbgrader": {
     "cell_type": "code",
     "checksum": "5a55982dbe72f653937aa92c45961e07",
     "grade": true,
     "grade_id": "dnbr-hidden-tests-2",
     "locked": true,
     "points": 25,
     "schema_version": 3,
     "solution": false,
     "task": false
    }
   },
   "outputs": [],
   "source": [
    "# Ignore this cell - autograding tests for MODIS subplot\n"
   ]
  },
  {
   "cell_type": "markdown",
   "metadata": {
    "deletable": false,
    "editable": false,
    "nbgrader": {
     "cell_type": "markdown",
     "checksum": "dc27ba4919447e29b803a05515bb3e7a",
     "grade": false,
     "grade_id": "bar4",
     "locked": true,
     "schema_version": 3,
     "solution": false,
     "task": false
    }
   },
   "source": [
    "![Colored Bar](colored-bar.png)"
   ]
  },
  {
   "cell_type": "markdown",
   "metadata": {
    "deletable": false,
    "editable": false,
    "nbgrader": {
     "cell_type": "markdown",
     "checksum": "3260c8ebee78858279d841ee3002d57c",
     "grade": false,
     "grade_id": "burned-area-instructions",
     "locked": true,
     "schema_version": 3,
     "solution": false,
     "task": false
    }
   },
   "source": [
    "# Landsat vs MODIS  Burned Area (8 points)\n",
    "\n",
    "In the cell below, print the total area burned in classes 4 and 5 (moderate to high severity) for both datasets \n",
    "(Landsat and MODIS). After your print statements, call your variables in a list at the end of the cell. The list should be in this order: \n",
    "```\n",
    "burned_landsat_class_4_area, burned_landsat_class_5_area, burned_modis_class_4_area, burned_modis_class_5_area]\n",
    "```\n",
    "\n",
    "HINT: Feel free to experiment with loops to complete this part of the homework. "
   ]
  },
  {
   "cell_type": "code",
   "execution_count": null,
   "metadata": {
    "deletable": false,
    "hideCode": false,
    "hidePrompt": false,
    "nbgrader": {
     "cell_type": "code",
     "checksum": "728a8199fd39edbc7c0e6d0dfcd7447d",
     "grade": false,
     "grade_id": "burned-area-answers",
     "locked": false,
     "schema_version": 3,
     "solution": true,
     "task": false
    }
   },
   "outputs": [],
   "source": [
    "# Total Burned Area in Classes 4 and 5 for Landsat and MODIS\n",
    "\n",
    "# YOUR CODE HERE\n",
    "raise NotImplementedError()"
   ]
  },
  {
   "cell_type": "code",
   "execution_count": null,
   "metadata": {
    "deletable": false,
    "nbgrader": {
     "cell_type": "code",
     "checksum": "e3fa3c8f535aa2b64899a25a9f011532",
     "grade": true,
     "grade_id": "burned-area-tests",
     "locked": false,
     "points": 8,
     "schema_version": 3,
     "solution": true,
     "task": false
    }
   },
   "outputs": [],
   "source": [
    "# YOUR CODE HERE\n",
    "raise NotImplementedError()"
   ]
  },
  {
   "cell_type": "markdown",
   "metadata": {
    "deletable": false,
    "editable": false,
    "nbgrader": {
     "cell_type": "markdown",
     "checksum": "d3027879415058268fc0f4ed337ed1c8",
     "grade": false,
     "grade_id": "bar5",
     "locked": true,
     "schema_version": 3,
     "solution": false,
     "task": false
    }
   },
   "source": [
    "![Colored Bar](colored-bar.png)"
   ]
  },
  {
   "cell_type": "markdown",
   "metadata": {
    "deletable": false,
    "editable": false,
    "nbgrader": {
     "cell_type": "markdown",
     "checksum": "afbe8997bf07b17c8a84de6142a96b49",
     "grade": false,
     "grade_id": "ndvi-bonus-instructions",
     "locked": true,
     "schema_version": 3,
     "solution": false,
     "task": false
    }
   },
   "source": [
    "# Bonus Plot: Difference NDVI (dNDVI) Using Landsat & MODIS Data (20 points each subplot)\n",
    "\n",
    "Plot the NDVI difference using before and after Landsat and MODIS data \n",
    "that cover the Cold Springs Fire study area. For each axis be sure to:\n",
    "\n",
    "1. overlay the fire boundary (`vector_layers/fire-boundary-geomac/co_cold_springs_20160711_2200_dd83.shp`) on top of the data.\n",
    "2. Be sure that the data are cropped using the fire boundary extent.\n",
    "\n",
    "In the cell below, create a figure with 2 subplots stacked vertically:\n",
    "* Plot dNDVI for Landsat on the first axis of the figure.\n",
    "* Plot dNDVI using MODIS on the second axis of the figure.\n",
    "\n",
    "Use the \"before\" and \"after\" data that you processed above to calculate NDVI difference for both MODIS and Landsat\n",
    "\n",
    "\n",
    "## NDVI Difference\n",
    "\n",
    "To create the NDVI Difference raster using \"before\" and \"after\" fire \n",
    "Landsat and MODIS data, you must first calculate NDVI for each \n",
    "dataset \"before\" and \"after\" the fire. \n",
    "\n",
    "Once you have the \"before\" and \"after\" NDVI arrays, you can subtract \n",
    "the pre-fire NDVI array FROM the post-fire NDVI array (post-fire minus pre-fire). \n",
    "\n",
    "The resulting array will show you change in the area's NDVI from the first image to the second image.\n",
    "\n",
    "HINT: Remember, you can use `es.normalized_diff(band_1, band_2)` to get the NDVI of an image. "
   ]
  },
  {
   "cell_type": "code",
   "execution_count": null,
   "metadata": {
    "deletable": false,
    "nbgrader": {
     "cell_type": "code",
     "checksum": "0cd813a746a524279a7e6332a49a6e45",
     "grade": false,
     "grade_id": "ndvi-bonus-answer",
     "locked": false,
     "schema_version": 3,
     "solution": true,
     "task": false
    }
   },
   "outputs": [],
   "source": [
    "# Plot Difference NDVI for Landsat & MODIS together in one figure\n",
    "\n",
    "# YOUR CODE HERE\n",
    "raise NotImplementedError()\n",
    "\n",
    "### DO NOT REMOVE LINE BELOW ###\n",
    "plot02_landsat_modis_ndvi_diff = nb.convert_axes(plt, which_axes=\"all\")"
   ]
  },
  {
   "cell_type": "code",
   "execution_count": null,
   "metadata": {
    "deletable": false,
    "editable": false,
    "nbgrader": {
     "cell_type": "code",
     "checksum": "9056b47b72d23390475177d0b1abc3b8",
     "grade": true,
     "grade_id": "ndvi-bonus-tests-1",
     "locked": true,
     "points": 20,
     "schema_version": 3,
     "solution": false,
     "task": false
    }
   },
   "outputs": [],
   "source": [
    "# Ignore this cell - autograding tests for Landsat subplot\n"
   ]
  },
  {
   "cell_type": "code",
   "execution_count": null,
   "metadata": {
    "deletable": false,
    "editable": false,
    "nbgrader": {
     "cell_type": "code",
     "checksum": "6db0e7d619306caa7588578615b85258",
     "grade": true,
     "grade_id": "ndvi-bonus-tests-2",
     "locked": true,
     "points": 20,
     "schema_version": 3,
     "solution": false,
     "task": false
    }
   },
   "outputs": [],
   "source": [
    "# Ignore this cell - autograding tests for MODIS subplot\n"
   ]
  },
  {
   "cell_type": "markdown",
   "metadata": {
    "deletable": false,
    "editable": false,
    "nbgrader": {
     "cell_type": "markdown",
     "checksum": "759a7d88f13e26624a5945c4e21bdaee",
     "grade": false,
     "grade_id": "caption-check",
     "locked": true,
     "points": 5,
     "schema_version": 3,
     "solution": false,
     "task": true
    }
   },
   "source": [
    "# Do not edit this cell! (5 points)\n",
    "\n",
    "* Each figure specifies the source of the data (for each plot) using a plot caption created with `ax.text()`."
   ]
  },
  {
   "cell_type": "markdown",
   "metadata": {
    "deletable": false,
    "editable": false,
    "nbgrader": {
     "cell_type": "markdown",
     "checksum": "98c4d2b053afd75294d36bd884ccfa22",
     "grade": false,
     "grade_id": "pep8-check",
     "locked": true,
     "points": 5,
     "schema_version": 3,
     "solution": false,
     "task": true
    }
   },
   "source": [
    "# Do not edit this cell! (5 points)\n",
    "\n",
    "The notebook will also be checked for overall clean code requirements as specified at the **very top** of this notebook! Some of these requirements include (review the top cells for more specifics): \n",
    "\n",
    "* Notebook begins at cell [1] and runs on any machine in its entirety.\n",
    "* PEP 8 format is applied throughout (including lengths of comment and code lines).\n",
    "* No additional code or imports in the notebook\n",
    "* Notebook is fully reproducible. This means:\n",
    "   * reproducible paths using the os module.\n",
    "   * data downloaded using code in the notebook.\n",
    "   * all imports at top of notebook."
   ]
  },
  {
   "cell_type": "markdown",
   "metadata": {
    "deletable": false,
    "editable": false,
    "nbgrader": {
     "cell_type": "markdown",
     "checksum": "82e1b08dbcf217e9bf8dee0db4d301c8",
     "grade": false,
     "grade_id": "docstring-check",
     "locked": true,
     "points": 5,
     "schema_version": 3,
     "solution": false,
     "task": true
    }
   },
   "source": [
    "# Do not edit this cell!  (5 points)\n",
    "\n",
    "All functions contain docstrings with inputs and outputs clearly identified and following numpy docstring standards."
   ]
  }
 ],
 "metadata": {
  "hide_code_all_hidden": false,
  "kernelspec": {
   "display_name": "Python 3 (ipykernel)",
   "language": "python",
   "name": "python3"
  },
  "language_info": {
   "codemirror_mode": {
    "name": "ipython",
    "version": 3
   },
   "file_extension": ".py",
   "mimetype": "text/x-python",
   "name": "python",
   "nbconvert_exporter": "python",
   "pygments_lexer": "ipython3",
   "version": "3.8.12"
  },
  "toc": {
   "base_numbering": 1,
   "nav_menu": {},
   "number_sections": true,
   "sideBar": true,
   "skip_h1_title": false,
   "title_cell": "Table of Contents",
   "title_sidebar": "Contents",
   "toc_cell": false,
   "toc_position": {
    "height": "calc(100% - 180px)",
    "left": "10px",
    "top": "150px",
    "width": "330.433px"
   },
   "toc_section_display": true,
   "toc_window_display": true
  },
  "varInspector": {
   "cols": {
    "lenName": 16,
    "lenType": 16,
    "lenVar": 40
   },
   "kernels_config": {
    "python": {
     "delete_cmd_postfix": "",
     "delete_cmd_prefix": "del ",
     "library": "var_list.py",
     "varRefreshCmd": "print(var_dic_list())"
    },
    "r": {
     "delete_cmd_postfix": ") ",
     "delete_cmd_prefix": "rm(",
     "library": "var_list.r",
     "varRefreshCmd": "cat(var_dic_list()) "
    }
   },
   "types_to_exclude": [
    "module",
    "function",
    "builtin_function_or_method",
    "instance",
    "_Feature"
   ],
   "window_display": false
  }
 },
 "nbformat": 4,
 "nbformat_minor": 2
}
